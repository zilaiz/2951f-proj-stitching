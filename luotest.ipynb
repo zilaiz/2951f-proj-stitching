{
 "cells": [
  {
   "cell_type": "code",
   "execution_count": 1,
   "metadata": {},
   "outputs": [],
   "source": [
    "import pickle\n",
    "path = 'data/pointmaze-umaze-v0.pkl'\n",
    "with open(path, 'rb') as fp:\n",
    "    dataset = pickle.load(fp)"
   ]
  },
  {
   "cell_type": "code",
   "execution_count": 16,
   "metadata": {},
   "outputs": [
    {
     "name": "stdout",
     "output_type": "stream",
     "text": [
      "dict_keys(['observations', 'actions', 'terminations', 'success_count', 'episode_count'])\n",
      "dict_keys(['episode_id', 'observation', 'achieved_goal'])\n"
     ]
    }
   ],
   "source": [
    "# dict_keys(['observations', 'actions', 'terminations', 'success_count', 'episode_count'])\n",
    "print(dataset.keys())\n",
    "# dict_keys(['episode_id', 'observation', 'achieved_goal'])\n",
    "# 1e6, 4\n",
    "data_obs = dataset['observations']\n",
    "print( dataset['observations'].keys() )\n",
    "dataset['observations']['observation']\n",
    "# ['episode_id'] # list\n",
    "all_obs = dataset['observations']['observation']"
   ]
  },
  {
   "cell_type": "code",
   "execution_count": 19,
   "metadata": {},
   "outputs": [
    {
     "data": {
      "text/plain": [
       "array([[ 0.01480353,  1.1619102 ],\n",
       "       [ 0.012563  ,  1.1596643 ],\n",
       "       [ 0.00838707,  1.1562811 ],\n",
       "       [ 0.00183945,  1.1505244 ],\n",
       "       [-0.00707421,  1.1424397 ],\n",
       "       [-0.01672226,  1.132791  ],\n",
       "       [-0.02872897,  1.1217612 ],\n",
       "       [-0.04308872,  1.1116433 ],\n",
       "       [-0.05979591,  1.1030118 ],\n",
       "       [-0.07884494,  1.0953009 ]], dtype=float32)"
      ]
     },
     "execution_count": 19,
     "metadata": {},
     "output_type": "execute_result"
    }
   ],
   "source": [
    "data_obs['achieved_goal'][:10]"
   ]
  },
  {
   "cell_type": "code",
   "execution_count": 20,
   "metadata": {},
   "outputs": [
    {
     "data": {
      "text/plain": [
       "array([[ 1.4803526e-02,  1.1619102e+00,  0.0000000e+00,  0.0000000e+00],\n",
       "       [ 1.2562996e-02,  1.1596643e+00, -2.2405306e-01, -2.2459234e-01],\n",
       "       [ 8.3870701e-03,  1.1562811e+00, -4.1759256e-01, -3.3831289e-01],\n",
       "       [ 1.8394511e-03,  1.1505244e+00, -6.5476185e-01, -5.7567096e-01],\n",
       "       [-7.0742117e-03,  1.1424397e+00, -8.9136630e-01, -8.0846936e-01],\n",
       "       [-1.6722260e-02,  1.1327910e+00, -9.6480477e-01, -9.6486938e-01],\n",
       "       [-2.8728968e-02,  1.1217612e+00, -1.2006708e+00, -1.1029854e+00],\n",
       "       [-4.3088719e-02,  1.1116433e+00, -1.4359751e+00, -1.0117897e+00],\n",
       "       [-5.9795909e-02,  1.1030118e+00, -1.6707189e+00, -8.6313730e-01],\n",
       "       [-7.8844942e-02,  1.0953009e+00, -1.9049038e+00, -7.7109534e-01]],\n",
       "      dtype=float32)"
      ]
     },
     "execution_count": 20,
     "metadata": {},
     "output_type": "execute_result"
    }
   ],
   "source": [
    "all_obs[:10]"
   ]
  },
  {
   "cell_type": "code",
   "execution_count": 15,
   "metadata": {},
   "outputs": [
    {
     "data": {
      "text/plain": [
       "(1000000,)"
      ]
     },
     "execution_count": 15,
     "metadata": {},
     "output_type": "execute_result"
    }
   ],
   "source": [
    "dataset['terminations'].shape"
   ]
  },
  {
   "cell_type": "code",
   "execution_count": null,
   "metadata": {},
   "outputs": [],
   "source": []
  }
 ],
 "metadata": {
  "kernelspec": {
   "display_name": "stitch",
   "language": "python",
   "name": "python3"
  },
  "language_info": {
   "codemirror_mode": {
    "name": "ipython",
    "version": 3
   },
   "file_extension": ".py",
   "mimetype": "text/x-python",
   "name": "python",
   "nbconvert_exporter": "python",
   "pygments_lexer": "ipython3",
   "version": "3.9.19"
  }
 },
 "nbformat": 4,
 "nbformat_minor": 2
}
